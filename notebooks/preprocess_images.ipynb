{
 "cells": [
  {
   "cell_type": "code",
   "execution_count": 1,
   "id": "60338a58-98ed-4cd4-84fc-0e13bb127f88",
   "metadata": {},
   "outputs": [],
   "source": [
    "import sys\n",
    "sys.path.append('..')\n",
    "\n",
    "import cv2\n",
    "import os\n",
    "\n",
    "import matplotlib.pyplot as plt\n",
    "import numpy as np\n",
    "from tensorflow.keras.utils import to_categorical\n",
    "from tensorflow import one_hot\n",
    "\n",
    "from utils.utils import load_images, extract_patches, extract_patches_from_images, load_arrays, load_array, save_arrays\n",
    "from variables import *"
   ]
  },
  {
   "cell_type": "code",
   "execution_count": 2,
   "id": "1dce4bfa-3178-4f33-b8ef-5aff5c090fe6",
   "metadata": {},
   "outputs": [],
   "source": [
    "STRIDE_TRAIN = 256\n",
    "STRIDE_TEST = 512\n",
    "NUM_CLASS = 2"
   ]
  },
  {
   "cell_type": "code",
   "execution_count": 3,
   "id": "7e8624d0-7862-48ff-8542-aa5cf3253549",
   "metadata": {},
   "outputs": [],
   "source": [
    "images_rlm = load_images(path_to_folder = PATH_TO_FE19_DATASET_RLM, normalize = True, one_channel = True)\n",
    "images_ref = load_images(path_to_folder = PATH_TO_FE19_DATASET_MASK, normalize = True, one_channel = True)"
   ]
  },
  {
   "cell_type": "code",
   "execution_count": 4,
   "id": "e2babec6-8a36-4768-90a6-baff47000ac6",
   "metadata": {},
   "outputs": [
    {
     "name": "stdout",
     "output_type": "stream",
     "text": [
      "19\n",
      "19\n"
     ]
    }
   ],
   "source": [
    "print(len(images_rlm))\n",
    "print(len(images_ref))"
   ]
  },
  {
   "cell_type": "code",
   "execution_count": 5,
   "id": "45222454-2c88-4a28-b83b-8bd7fe0992c5",
   "metadata": {},
   "outputs": [],
   "source": [
    "patches_rlm_train = extract_patches_from_images(images = images_rlm, patch_size = 512, stride = STRIDE_TRAIN)\n",
    "patches_ref_train = extract_patches_from_images(images = images_ref, patch_size = 512, stride = STRIDE_TRAIN)\n",
    "\n",
    "patches_rlm_test = extract_patches_from_images(images = images_rlm, patch_size = 512, stride = STRIDE_TEST)\n",
    "patches_ref_test = extract_patches_from_images(images = images_ref, patch_size = 512, stride = STRIDE_TEST)"
   ]
  },
  {
   "cell_type": "code",
   "execution_count": 6,
   "id": "3549cbc9-982a-48a8-b540-70e616101bb9",
   "metadata": {},
   "outputs": [
    {
     "name": "stdout",
     "output_type": "stream",
     "text": [
      "(76, 512, 512, 1)\n",
      "(76, 512, 512, 1)\n"
     ]
    }
   ],
   "source": [
    "print(patches_rlm_train.shape)\n",
    "print(patches_ref_train.shape)"
   ]
  },
  {
   "cell_type": "code",
   "execution_count": 7,
   "id": "c27ba6bd-7686-46c3-adfe-a8b21dba0fed",
   "metadata": {},
   "outputs": [],
   "source": [
    "def convert_to_onehot_tensor(tensor: np.ndarray, num_class: int):\n",
    "    onehot_tensor = one_hot(tensor[:, :, :, 0], depth = num_class, axis = -1)\n",
    "    return np.asarray(onehot_tensor)"
   ]
  },
  {
   "cell_type": "code",
   "execution_count": 8,
   "id": "1c5decb4-1c46-4255-ba8a-070e42b27193",
   "metadata": {},
   "outputs": [
    {
     "name": "stdout",
     "output_type": "stream",
     "text": [
      "(76, 512, 512, 2)\n"
     ]
    }
   ],
   "source": [
    "patches_ref_train_onehot = convert_to_onehot_tensor(tensor = patches_ref_train, num_class = NUM_CLASS)\n",
    "print(patches_ref_train_onehot.shape)"
   ]
  },
  {
   "cell_type": "code",
   "execution_count": 9,
   "id": "02fca5b1-ca94-4f91-ae59-0583af2c284b",
   "metadata": {},
   "outputs": [
    {
     "name": "stdout",
     "output_type": "stream",
     "text": [
      "(76, 512, 512, 3) float64\n"
     ]
    }
   ],
   "source": [
    "patches_train = np.concatenate((patches_rlm_train, patches_ref_train_onehot), axis = 3)\n",
    "print(patches_train.shape, patches_train.dtype)"
   ]
  },
  {
   "cell_type": "code",
   "execution_count": 10,
   "id": "327f9c4a-30a5-4b9a-adc5-179f7a57b29a",
   "metadata": {},
   "outputs": [
    {
     "name": "stdout",
     "output_type": "stream",
     "text": [
      "(19, 512, 512, 1)\n",
      "(19, 512, 512, 1)\n"
     ]
    }
   ],
   "source": [
    "print(patches_rlm_test.shape)\n",
    "print(patches_ref_test.shape)"
   ]
  },
  {
   "cell_type": "code",
   "execution_count": 11,
   "id": "2730b9db-ee0e-4f99-a055-a54f36c2a6ec",
   "metadata": {},
   "outputs": [
    {
     "name": "stdout",
     "output_type": "stream",
     "text": [
      "(19, 512, 512, 2)\n"
     ]
    }
   ],
   "source": [
    "patches_ref_test_onehot = convert_to_onehot_tensor(tensor = patches_ref_test, num_class = NUM_CLASS)\n",
    "print(patches_ref_test_onehot.shape)"
   ]
  },
  {
   "cell_type": "code",
   "execution_count": 12,
   "id": "a0db4570-bfe1-4124-9d24-22a9d666f6df",
   "metadata": {},
   "outputs": [
    {
     "name": "stdout",
     "output_type": "stream",
     "text": [
      "(19, 512, 512, 3) float64\n"
     ]
    }
   ],
   "source": [
    "patches_test = np.concatenate((patches_rlm_test, patches_ref_test_onehot), axis = 3)\n",
    "print(patches_test.shape, patches_test.dtype)"
   ]
  },
  {
   "cell_type": "code",
   "execution_count": null,
   "id": "e9d3b8c3-07f8-49a7-b02e-6953417ef3b5",
   "metadata": {},
   "outputs": [],
   "source": [
    "# def save_arrays(images: np.ndarray, path_to_folder: str, suffix = '', ext = '.npy'):\n",
    "#     if not os.path.exists(path_to_folder):\n",
    "#         os.makedirs(path_to_folder)\n",
    "#     else:\n",
    "#         files_to_remove = os.listdir(path_to_folder)\n",
    "#         [os.remove(os.path.join(path_to_folder, file)) for file in files_to_remove]\n",
    "\n",
    "#     count = 0\n",
    "#     for i in range(images.shape[0]):\n",
    "#         img = images[i, :, :, :]\n",
    "#         file_name = f'{i + 1:03}{suffix}{ext}'\n",
    "#         full_file_name = os.path.join(path_to_folder, file_name)\n",
    "        \n",
    "#         with open(full_file_name, 'wb') as file:\n",
    "#             try:\n",
    "#                 np.save(file, img)\n",
    "#                 count += 1\n",
    "#                 print(f'Saved file {file_name} successfuly.')\n",
    "#             except:\n",
    "#                 print(f'Could not save file {file_name}.')\n",
    "            \n",
    "#     return count"
   ]
  },
  {
   "cell_type": "code",
   "execution_count": null,
   "id": "da42a754-cb90-419c-a1bd-31c5cfc9cac1",
   "metadata": {},
   "outputs": [],
   "source": [
    "# def load_array(full_file_name: str):\n",
    "#     with open(full_file_name, 'rb') as file:\n",
    "#         try:\n",
    "#             array = np.load(file)\n",
    "#             print(f'Loaded file {full_file_name} successfuly.')\n",
    "#         except:\n",
    "#             print(f'Could not load file {full_file_name} successfuly.')\n",
    "\n",
    "#     return array"
   ]
  },
  {
   "cell_type": "code",
   "execution_count": null,
   "id": "1ff217d2-c146-451d-b2ba-6a523186b228",
   "metadata": {},
   "outputs": [],
   "source": [
    "# def load_arrays(path_to_folder: str):\n",
    "#     if not os.path.exists(path_to_folder):\n",
    "#         return 'Folder does not exist.'\n",
    "    \n",
    "#     file_names = os.listdir(path_to_folder)\n",
    "#     content = []\n",
    "#     for file_name in file_names:\n",
    "#         full_file_name = os.path.join(path_to_folder, file_name)\n",
    "#         content.append(load_array(full_file_name))\n",
    "\n",
    "#     return np.asarray(content)"
   ]
  },
  {
   "cell_type": "code",
   "execution_count": 13,
   "id": "06002e16-1cdc-4a0a-a5d2-cb78d24760c1",
   "metadata": {
    "tags": []
   },
   "outputs": [
    {
     "name": "stdout",
     "output_type": "stream",
     "text": [
      "Saved file 001.npy successfuly.\n",
      "Saved file 002.npy successfuly.\n",
      "Saved file 003.npy successfuly.\n",
      "Saved file 004.npy successfuly.\n",
      "Saved file 005.npy successfuly.\n",
      "Saved file 006.npy successfuly.\n",
      "Saved file 007.npy successfuly.\n",
      "Saved file 008.npy successfuly.\n",
      "Saved file 009.npy successfuly.\n",
      "Saved file 010.npy successfuly.\n",
      "Saved file 011.npy successfuly.\n",
      "Saved file 012.npy successfuly.\n",
      "Saved file 013.npy successfuly.\n",
      "Saved file 014.npy successfuly.\n",
      "Saved file 015.npy successfuly.\n",
      "Saved file 016.npy successfuly.\n",
      "Saved file 017.npy successfuly.\n",
      "Saved file 018.npy successfuly.\n",
      "Saved file 019.npy successfuly.\n",
      "Saved file 020.npy successfuly.\n",
      "Saved file 021.npy successfuly.\n",
      "Saved file 022.npy successfuly.\n",
      "Saved file 023.npy successfuly.\n",
      "Saved file 024.npy successfuly.\n",
      "Saved file 025.npy successfuly.\n",
      "Saved file 026.npy successfuly.\n",
      "Saved file 027.npy successfuly.\n",
      "Saved file 028.npy successfuly.\n",
      "Saved file 029.npy successfuly.\n",
      "Saved file 030.npy successfuly.\n",
      "Saved file 031.npy successfuly.\n",
      "Saved file 032.npy successfuly.\n",
      "Saved file 033.npy successfuly.\n",
      "Saved file 034.npy successfuly.\n",
      "Saved file 035.npy successfuly.\n",
      "Saved file 036.npy successfuly.\n",
      "Saved file 037.npy successfuly.\n",
      "Saved file 038.npy successfuly.\n",
      "Saved file 039.npy successfuly.\n",
      "Saved file 040.npy successfuly.\n",
      "Saved file 041.npy successfuly.\n",
      "Saved file 042.npy successfuly.\n",
      "Saved file 043.npy successfuly.\n",
      "Saved file 044.npy successfuly.\n",
      "Saved file 045.npy successfuly.\n",
      "Saved file 046.npy successfuly.\n",
      "Saved file 047.npy successfuly.\n",
      "Saved file 048.npy successfuly.\n",
      "Saved file 049.npy successfuly.\n",
      "Saved file 050.npy successfuly.\n",
      "Saved file 051.npy successfuly.\n",
      "Saved file 052.npy successfuly.\n",
      "Saved file 053.npy successfuly.\n",
      "Saved file 054.npy successfuly.\n",
      "Saved file 055.npy successfuly.\n",
      "Saved file 056.npy successfuly.\n",
      "Saved file 057.npy successfuly.\n",
      "Saved file 058.npy successfuly.\n",
      "Saved file 059.npy successfuly.\n",
      "Saved file 060.npy successfuly.\n",
      "Saved file 061.npy successfuly.\n",
      "Saved file 062.npy successfuly.\n",
      "Saved file 063.npy successfuly.\n",
      "Saved file 064.npy successfuly.\n",
      "Saved file 065.npy successfuly.\n",
      "Saved file 066.npy successfuly.\n",
      "Saved file 067.npy successfuly.\n",
      "Saved file 068.npy successfuly.\n",
      "Saved file 069.npy successfuly.\n",
      "Saved file 070.npy successfuly.\n",
      "Saved file 071.npy successfuly.\n",
      "Saved file 072.npy successfuly.\n",
      "Saved file 073.npy successfuly.\n",
      "Saved file 074.npy successfuly.\n",
      "Saved file 075.npy successfuly.\n",
      "Saved file 076.npy successfuly.\n"
     ]
    },
    {
     "data": {
      "text/plain": [
       "76"
      ]
     },
     "execution_count": 13,
     "metadata": {},
     "output_type": "execute_result"
    }
   ],
   "source": [
    "save_arrays(patches_train, f'{PROCESSED_FOLDER}/Fe19_stride512_Train/', suffix = '', ext = '.npy')"
   ]
  },
  {
   "cell_type": "code",
   "execution_count": 14,
   "id": "3d06b782-1364-4b47-bfac-f02c9090b565",
   "metadata": {},
   "outputs": [
    {
     "name": "stdout",
     "output_type": "stream",
     "text": [
      "Saved file 001.npy successfuly.\n",
      "Saved file 002.npy successfuly.\n",
      "Saved file 003.npy successfuly.\n",
      "Saved file 004.npy successfuly.\n",
      "Saved file 005.npy successfuly.\n",
      "Saved file 006.npy successfuly.\n",
      "Saved file 007.npy successfuly.\n",
      "Saved file 008.npy successfuly.\n",
      "Saved file 009.npy successfuly.\n",
      "Saved file 010.npy successfuly.\n",
      "Saved file 011.npy successfuly.\n",
      "Saved file 012.npy successfuly.\n",
      "Saved file 013.npy successfuly.\n",
      "Saved file 014.npy successfuly.\n",
      "Saved file 015.npy successfuly.\n",
      "Saved file 016.npy successfuly.\n",
      "Saved file 017.npy successfuly.\n",
      "Saved file 018.npy successfuly.\n",
      "Saved file 019.npy successfuly.\n"
     ]
    },
    {
     "data": {
      "text/plain": [
       "19"
      ]
     },
     "execution_count": 14,
     "metadata": {},
     "output_type": "execute_result"
    }
   ],
   "source": [
    "save_arrays(patches_test, f'{PROCESSED_FOLDER}/Fe19_stride512_Test/', suffix = '', ext = '.npy')"
   ]
  },
  {
   "cell_type": "code",
   "execution_count": 15,
   "id": "622f0ec6-171d-42d0-967a-552938474908",
   "metadata": {},
   "outputs": [
    {
     "name": "stdout",
     "output_type": "stream",
     "text": [
      "Loaded file C:/Users/Vinicius Martins/Documents/CCOMP/Projeto/code/DANN/processed_images/Fe19_stride512_Test/001.npy successfuly.\n"
     ]
    },
    {
     "data": {
      "text/plain": [
       "(512, 512, 3)"
      ]
     },
     "execution_count": 15,
     "metadata": {},
     "output_type": "execute_result"
    }
   ],
   "source": [
    "a = load_array(os.path.join(f'{PROCESSED_FOLDER}/Fe19_stride512_Test/', '001.npy'))\n",
    "a.shape"
   ]
  },
  {
   "cell_type": "code",
   "execution_count": 16,
   "id": "e7aaa846-3986-49a0-84fd-c7d4df0a6381",
   "metadata": {},
   "outputs": [
    {
     "name": "stdout",
     "output_type": "stream",
     "text": [
      "Loaded file C:/Users/Vinicius Martins/Documents/CCOMP/Projeto/code/DANN/processed_images/Fe19_stride512_Train/001.npy successfuly.\n",
      "Loaded file C:/Users/Vinicius Martins/Documents/CCOMP/Projeto/code/DANN/processed_images/Fe19_stride512_Train/002.npy successfuly.\n",
      "Loaded file C:/Users/Vinicius Martins/Documents/CCOMP/Projeto/code/DANN/processed_images/Fe19_stride512_Train/003.npy successfuly.\n",
      "Loaded file C:/Users/Vinicius Martins/Documents/CCOMP/Projeto/code/DANN/processed_images/Fe19_stride512_Train/004.npy successfuly.\n",
      "Loaded file C:/Users/Vinicius Martins/Documents/CCOMP/Projeto/code/DANN/processed_images/Fe19_stride512_Train/005.npy successfuly.\n",
      "Loaded file C:/Users/Vinicius Martins/Documents/CCOMP/Projeto/code/DANN/processed_images/Fe19_stride512_Train/006.npy successfuly.\n",
      "Loaded file C:/Users/Vinicius Martins/Documents/CCOMP/Projeto/code/DANN/processed_images/Fe19_stride512_Train/007.npy successfuly.\n",
      "Loaded file C:/Users/Vinicius Martins/Documents/CCOMP/Projeto/code/DANN/processed_images/Fe19_stride512_Train/008.npy successfuly.\n",
      "Loaded file C:/Users/Vinicius Martins/Documents/CCOMP/Projeto/code/DANN/processed_images/Fe19_stride512_Train/009.npy successfuly.\n",
      "Loaded file C:/Users/Vinicius Martins/Documents/CCOMP/Projeto/code/DANN/processed_images/Fe19_stride512_Train/010.npy successfuly.\n",
      "Loaded file C:/Users/Vinicius Martins/Documents/CCOMP/Projeto/code/DANN/processed_images/Fe19_stride512_Train/011.npy successfuly.\n",
      "Loaded file C:/Users/Vinicius Martins/Documents/CCOMP/Projeto/code/DANN/processed_images/Fe19_stride512_Train/012.npy successfuly.\n",
      "Loaded file C:/Users/Vinicius Martins/Documents/CCOMP/Projeto/code/DANN/processed_images/Fe19_stride512_Train/013.npy successfuly.\n",
      "Loaded file C:/Users/Vinicius Martins/Documents/CCOMP/Projeto/code/DANN/processed_images/Fe19_stride512_Train/014.npy successfuly.\n",
      "Loaded file C:/Users/Vinicius Martins/Documents/CCOMP/Projeto/code/DANN/processed_images/Fe19_stride512_Train/015.npy successfuly.\n",
      "Loaded file C:/Users/Vinicius Martins/Documents/CCOMP/Projeto/code/DANN/processed_images/Fe19_stride512_Train/016.npy successfuly.\n",
      "Loaded file C:/Users/Vinicius Martins/Documents/CCOMP/Projeto/code/DANN/processed_images/Fe19_stride512_Train/017.npy successfuly.\n",
      "Loaded file C:/Users/Vinicius Martins/Documents/CCOMP/Projeto/code/DANN/processed_images/Fe19_stride512_Train/018.npy successfuly.\n",
      "Loaded file C:/Users/Vinicius Martins/Documents/CCOMP/Projeto/code/DANN/processed_images/Fe19_stride512_Train/019.npy successfuly.\n",
      "Loaded file C:/Users/Vinicius Martins/Documents/CCOMP/Projeto/code/DANN/processed_images/Fe19_stride512_Train/020.npy successfuly.\n",
      "Loaded file C:/Users/Vinicius Martins/Documents/CCOMP/Projeto/code/DANN/processed_images/Fe19_stride512_Train/021.npy successfuly.\n",
      "Loaded file C:/Users/Vinicius Martins/Documents/CCOMP/Projeto/code/DANN/processed_images/Fe19_stride512_Train/022.npy successfuly.\n",
      "Loaded file C:/Users/Vinicius Martins/Documents/CCOMP/Projeto/code/DANN/processed_images/Fe19_stride512_Train/023.npy successfuly.\n",
      "Loaded file C:/Users/Vinicius Martins/Documents/CCOMP/Projeto/code/DANN/processed_images/Fe19_stride512_Train/024.npy successfuly.\n",
      "Loaded file C:/Users/Vinicius Martins/Documents/CCOMP/Projeto/code/DANN/processed_images/Fe19_stride512_Train/025.npy successfuly.\n",
      "Loaded file C:/Users/Vinicius Martins/Documents/CCOMP/Projeto/code/DANN/processed_images/Fe19_stride512_Train/026.npy successfuly.\n",
      "Loaded file C:/Users/Vinicius Martins/Documents/CCOMP/Projeto/code/DANN/processed_images/Fe19_stride512_Train/027.npy successfuly.\n",
      "Loaded file C:/Users/Vinicius Martins/Documents/CCOMP/Projeto/code/DANN/processed_images/Fe19_stride512_Train/028.npy successfuly.\n",
      "Loaded file C:/Users/Vinicius Martins/Documents/CCOMP/Projeto/code/DANN/processed_images/Fe19_stride512_Train/029.npy successfuly.\n",
      "Loaded file C:/Users/Vinicius Martins/Documents/CCOMP/Projeto/code/DANN/processed_images/Fe19_stride512_Train/030.npy successfuly.\n",
      "Loaded file C:/Users/Vinicius Martins/Documents/CCOMP/Projeto/code/DANN/processed_images/Fe19_stride512_Train/031.npy successfuly.\n",
      "Loaded file C:/Users/Vinicius Martins/Documents/CCOMP/Projeto/code/DANN/processed_images/Fe19_stride512_Train/032.npy successfuly.\n",
      "Loaded file C:/Users/Vinicius Martins/Documents/CCOMP/Projeto/code/DANN/processed_images/Fe19_stride512_Train/033.npy successfuly.\n",
      "Loaded file C:/Users/Vinicius Martins/Documents/CCOMP/Projeto/code/DANN/processed_images/Fe19_stride512_Train/034.npy successfuly.\n",
      "Loaded file C:/Users/Vinicius Martins/Documents/CCOMP/Projeto/code/DANN/processed_images/Fe19_stride512_Train/035.npy successfuly.\n",
      "Loaded file C:/Users/Vinicius Martins/Documents/CCOMP/Projeto/code/DANN/processed_images/Fe19_stride512_Train/036.npy successfuly.\n",
      "Loaded file C:/Users/Vinicius Martins/Documents/CCOMP/Projeto/code/DANN/processed_images/Fe19_stride512_Train/037.npy successfuly.\n",
      "Loaded file C:/Users/Vinicius Martins/Documents/CCOMP/Projeto/code/DANN/processed_images/Fe19_stride512_Train/038.npy successfuly.\n",
      "Loaded file C:/Users/Vinicius Martins/Documents/CCOMP/Projeto/code/DANN/processed_images/Fe19_stride512_Train/039.npy successfuly.\n",
      "Loaded file C:/Users/Vinicius Martins/Documents/CCOMP/Projeto/code/DANN/processed_images/Fe19_stride512_Train/040.npy successfuly.\n",
      "Loaded file C:/Users/Vinicius Martins/Documents/CCOMP/Projeto/code/DANN/processed_images/Fe19_stride512_Train/041.npy successfuly.\n",
      "Loaded file C:/Users/Vinicius Martins/Documents/CCOMP/Projeto/code/DANN/processed_images/Fe19_stride512_Train/042.npy successfuly.\n",
      "Loaded file C:/Users/Vinicius Martins/Documents/CCOMP/Projeto/code/DANN/processed_images/Fe19_stride512_Train/043.npy successfuly.\n",
      "Loaded file C:/Users/Vinicius Martins/Documents/CCOMP/Projeto/code/DANN/processed_images/Fe19_stride512_Train/044.npy successfuly.\n",
      "Loaded file C:/Users/Vinicius Martins/Documents/CCOMP/Projeto/code/DANN/processed_images/Fe19_stride512_Train/045.npy successfuly.\n",
      "Loaded file C:/Users/Vinicius Martins/Documents/CCOMP/Projeto/code/DANN/processed_images/Fe19_stride512_Train/046.npy successfuly.\n",
      "Loaded file C:/Users/Vinicius Martins/Documents/CCOMP/Projeto/code/DANN/processed_images/Fe19_stride512_Train/047.npy successfuly.\n",
      "Loaded file C:/Users/Vinicius Martins/Documents/CCOMP/Projeto/code/DANN/processed_images/Fe19_stride512_Train/048.npy successfuly.\n",
      "Loaded file C:/Users/Vinicius Martins/Documents/CCOMP/Projeto/code/DANN/processed_images/Fe19_stride512_Train/049.npy successfuly.\n",
      "Loaded file C:/Users/Vinicius Martins/Documents/CCOMP/Projeto/code/DANN/processed_images/Fe19_stride512_Train/050.npy successfuly.\n",
      "Loaded file C:/Users/Vinicius Martins/Documents/CCOMP/Projeto/code/DANN/processed_images/Fe19_stride512_Train/051.npy successfuly.\n",
      "Loaded file C:/Users/Vinicius Martins/Documents/CCOMP/Projeto/code/DANN/processed_images/Fe19_stride512_Train/052.npy successfuly.\n",
      "Loaded file C:/Users/Vinicius Martins/Documents/CCOMP/Projeto/code/DANN/processed_images/Fe19_stride512_Train/053.npy successfuly.\n",
      "Loaded file C:/Users/Vinicius Martins/Documents/CCOMP/Projeto/code/DANN/processed_images/Fe19_stride512_Train/054.npy successfuly.\n",
      "Loaded file C:/Users/Vinicius Martins/Documents/CCOMP/Projeto/code/DANN/processed_images/Fe19_stride512_Train/055.npy successfuly.\n",
      "Loaded file C:/Users/Vinicius Martins/Documents/CCOMP/Projeto/code/DANN/processed_images/Fe19_stride512_Train/056.npy successfuly.\n",
      "Loaded file C:/Users/Vinicius Martins/Documents/CCOMP/Projeto/code/DANN/processed_images/Fe19_stride512_Train/057.npy successfuly.\n",
      "Loaded file C:/Users/Vinicius Martins/Documents/CCOMP/Projeto/code/DANN/processed_images/Fe19_stride512_Train/058.npy successfuly.\n",
      "Loaded file C:/Users/Vinicius Martins/Documents/CCOMP/Projeto/code/DANN/processed_images/Fe19_stride512_Train/059.npy successfuly.\n",
      "Loaded file C:/Users/Vinicius Martins/Documents/CCOMP/Projeto/code/DANN/processed_images/Fe19_stride512_Train/060.npy successfuly.\n",
      "Loaded file C:/Users/Vinicius Martins/Documents/CCOMP/Projeto/code/DANN/processed_images/Fe19_stride512_Train/061.npy successfuly.\n",
      "Loaded file C:/Users/Vinicius Martins/Documents/CCOMP/Projeto/code/DANN/processed_images/Fe19_stride512_Train/062.npy successfuly.\n",
      "Loaded file C:/Users/Vinicius Martins/Documents/CCOMP/Projeto/code/DANN/processed_images/Fe19_stride512_Train/063.npy successfuly.\n",
      "Loaded file C:/Users/Vinicius Martins/Documents/CCOMP/Projeto/code/DANN/processed_images/Fe19_stride512_Train/064.npy successfuly.\n",
      "Loaded file C:/Users/Vinicius Martins/Documents/CCOMP/Projeto/code/DANN/processed_images/Fe19_stride512_Train/065.npy successfuly.\n",
      "Loaded file C:/Users/Vinicius Martins/Documents/CCOMP/Projeto/code/DANN/processed_images/Fe19_stride512_Train/066.npy successfuly.\n",
      "Loaded file C:/Users/Vinicius Martins/Documents/CCOMP/Projeto/code/DANN/processed_images/Fe19_stride512_Train/067.npy successfuly.\n",
      "Loaded file C:/Users/Vinicius Martins/Documents/CCOMP/Projeto/code/DANN/processed_images/Fe19_stride512_Train/068.npy successfuly.\n",
      "Loaded file C:/Users/Vinicius Martins/Documents/CCOMP/Projeto/code/DANN/processed_images/Fe19_stride512_Train/069.npy successfuly.\n",
      "Loaded file C:/Users/Vinicius Martins/Documents/CCOMP/Projeto/code/DANN/processed_images/Fe19_stride512_Train/070.npy successfuly.\n",
      "Loaded file C:/Users/Vinicius Martins/Documents/CCOMP/Projeto/code/DANN/processed_images/Fe19_stride512_Train/071.npy successfuly.\n",
      "Loaded file C:/Users/Vinicius Martins/Documents/CCOMP/Projeto/code/DANN/processed_images/Fe19_stride512_Train/072.npy successfuly.\n",
      "Loaded file C:/Users/Vinicius Martins/Documents/CCOMP/Projeto/code/DANN/processed_images/Fe19_stride512_Train/073.npy successfuly.\n",
      "Loaded file C:/Users/Vinicius Martins/Documents/CCOMP/Projeto/code/DANN/processed_images/Fe19_stride512_Train/074.npy successfuly.\n",
      "Loaded file C:/Users/Vinicius Martins/Documents/CCOMP/Projeto/code/DANN/processed_images/Fe19_stride512_Train/075.npy successfuly.\n",
      "Loaded file C:/Users/Vinicius Martins/Documents/CCOMP/Projeto/code/DANN/processed_images/Fe19_stride512_Train/076.npy successfuly.\n"
     ]
    },
    {
     "data": {
      "text/plain": [
       "(76, 512, 512, 3)"
      ]
     },
     "execution_count": 16,
     "metadata": {},
     "output_type": "execute_result"
    }
   ],
   "source": [
    "train = load_arrays(f'{PROCESSED_FOLDER}/Fe19_stride512_Train/')\n",
    "train.shape"
   ]
  },
  {
   "cell_type": "code",
   "execution_count": 17,
   "id": "32c8bca2-613f-4cdd-9655-e379b59920ce",
   "metadata": {},
   "outputs": [
    {
     "name": "stdout",
     "output_type": "stream",
     "text": [
      "Loaded file C:/Users/Vinicius Martins/Documents/CCOMP/Projeto/code/DANN/processed_images/Fe19_stride512_Test/001.npy successfuly.\n",
      "Loaded file C:/Users/Vinicius Martins/Documents/CCOMP/Projeto/code/DANN/processed_images/Fe19_stride512_Test/002.npy successfuly.\n",
      "Loaded file C:/Users/Vinicius Martins/Documents/CCOMP/Projeto/code/DANN/processed_images/Fe19_stride512_Test/003.npy successfuly.\n",
      "Loaded file C:/Users/Vinicius Martins/Documents/CCOMP/Projeto/code/DANN/processed_images/Fe19_stride512_Test/004.npy successfuly.\n",
      "Loaded file C:/Users/Vinicius Martins/Documents/CCOMP/Projeto/code/DANN/processed_images/Fe19_stride512_Test/005.npy successfuly.\n",
      "Loaded file C:/Users/Vinicius Martins/Documents/CCOMP/Projeto/code/DANN/processed_images/Fe19_stride512_Test/006.npy successfuly.\n",
      "Loaded file C:/Users/Vinicius Martins/Documents/CCOMP/Projeto/code/DANN/processed_images/Fe19_stride512_Test/007.npy successfuly.\n",
      "Loaded file C:/Users/Vinicius Martins/Documents/CCOMP/Projeto/code/DANN/processed_images/Fe19_stride512_Test/008.npy successfuly.\n",
      "Loaded file C:/Users/Vinicius Martins/Documents/CCOMP/Projeto/code/DANN/processed_images/Fe19_stride512_Test/009.npy successfuly.\n",
      "Loaded file C:/Users/Vinicius Martins/Documents/CCOMP/Projeto/code/DANN/processed_images/Fe19_stride512_Test/010.npy successfuly.\n",
      "Loaded file C:/Users/Vinicius Martins/Documents/CCOMP/Projeto/code/DANN/processed_images/Fe19_stride512_Test/011.npy successfuly.\n",
      "Loaded file C:/Users/Vinicius Martins/Documents/CCOMP/Projeto/code/DANN/processed_images/Fe19_stride512_Test/012.npy successfuly.\n",
      "Loaded file C:/Users/Vinicius Martins/Documents/CCOMP/Projeto/code/DANN/processed_images/Fe19_stride512_Test/013.npy successfuly.\n",
      "Loaded file C:/Users/Vinicius Martins/Documents/CCOMP/Projeto/code/DANN/processed_images/Fe19_stride512_Test/014.npy successfuly.\n",
      "Loaded file C:/Users/Vinicius Martins/Documents/CCOMP/Projeto/code/DANN/processed_images/Fe19_stride512_Test/015.npy successfuly.\n",
      "Loaded file C:/Users/Vinicius Martins/Documents/CCOMP/Projeto/code/DANN/processed_images/Fe19_stride512_Test/016.npy successfuly.\n",
      "Loaded file C:/Users/Vinicius Martins/Documents/CCOMP/Projeto/code/DANN/processed_images/Fe19_stride512_Test/017.npy successfuly.\n",
      "Loaded file C:/Users/Vinicius Martins/Documents/CCOMP/Projeto/code/DANN/processed_images/Fe19_stride512_Test/018.npy successfuly.\n",
      "Loaded file C:/Users/Vinicius Martins/Documents/CCOMP/Projeto/code/DANN/processed_images/Fe19_stride512_Test/019.npy successfuly.\n"
     ]
    },
    {
     "data": {
      "text/plain": [
       "(19, 512, 512, 3)"
      ]
     },
     "execution_count": 17,
     "metadata": {},
     "output_type": "execute_result"
    }
   ],
   "source": [
    "test = load_arrays(f'{PROCESSED_FOLDER}/Fe19_stride512_Test/')\n",
    "test.shape"
   ]
  },
  {
   "cell_type": "code",
   "execution_count": null,
   "id": "ff508220-b023-40b5-809f-1018a1ca96f3",
   "metadata": {},
   "outputs": [],
   "source": []
  }
 ],
 "metadata": {
  "kernelspec": {
   "display_name": "Python 3 (ipykernel)",
   "language": "python",
   "name": "python3"
  },
  "language_info": {
   "codemirror_mode": {
    "name": "ipython",
    "version": 3
   },
   "file_extension": ".py",
   "mimetype": "text/x-python",
   "name": "python",
   "nbconvert_exporter": "python",
   "pygments_lexer": "ipython3",
   "version": "3.7.1"
  }
 },
 "nbformat": 4,
 "nbformat_minor": 5
}
