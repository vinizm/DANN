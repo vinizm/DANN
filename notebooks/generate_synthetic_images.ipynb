{
 "cells": [
  {
   "cell_type": "code",
   "execution_count": 1,
   "id": "18c3117c-7cb9-4f8e-8e28-a18414fa7174",
   "metadata": {},
   "outputs": [],
   "source": [
    "from utils import load_images, extract_patches, extract_patches_in_batches\n",
    "import cv2\n",
    "import numpy as np"
   ]
  },
  {
   "cell_type": "code",
   "execution_count": 2,
   "id": "ce6e3d94-e702-4df4-b58a-db01e5469a94",
   "metadata": {},
   "outputs": [],
   "source": [
    "PATCH_SIZE = 512\n",
    "STRIDE = 256\n",
    "NUM_SYNTHETIC = 250"
   ]
  },
  {
   "cell_type": "code",
   "execution_count": 3,
   "id": "ed5de7e0-31c4-4a51-96bd-d1effe58fcc0",
   "metadata": {},
   "outputs": [],
   "source": [
    "path_ref = '../../Datasets/Fe120/Reference'\n",
    "raw_images = load_images(path_to_folder = path_ref, one_channel = True)"
   ]
  },
  {
   "cell_type": "code",
   "execution_count": 4,
   "id": "842b0c1c-e2d8-4983-a6c8-75efb409c911",
   "metadata": {},
   "outputs": [
    {
     "name": "stdout",
     "output_type": "stream",
     "text": [
      "(476, 512, 512)\n"
     ]
    }
   ],
   "source": [
    "positive_patches = extract_patches_in_batches(images = raw_images, patch_size = PATCH_SIZE, stride = STRIDE)\n",
    "print(positive_patches.shape)"
   ]
  },
  {
   "cell_type": "code",
   "execution_count": 5,
   "id": "ba1c0493-0c9c-43a9-8278-4d448fe7d56e",
   "metadata": {},
   "outputs": [],
   "source": [
    "epoxy_fractions = [patch[patch == 0].size / patch.reshape(-1).size for patch in positive_patches]\n",
    "epoxy_fraction_mean = np.mean(epoxy_fractions)\n",
    "epoxy_fraction_std = np.std(epoxy_fractions)"
   ]
  },
  {
   "cell_type": "code",
   "execution_count": 6,
   "id": "d08a50cc-cc3d-4547-999c-f4d1b51a5735",
   "metadata": {},
   "outputs": [],
   "source": [
    "simulated_fractions = np.random.normal(epoxy_fraction_mean, epoxy_fraction_std, NUM_SYNTHETIC)"
   ]
  },
  {
   "cell_type": "code",
   "execution_count": 7,
   "id": "fe591a40-3909-44d7-b91a-6703d6463129",
   "metadata": {},
   "outputs": [],
   "source": [
    "simulated_images = [255 * np.random.binomial(1, fraction, (PATCH_SIZE, PATCH_SIZE)) for fraction in simulated_fractions]"
   ]
  },
  {
   "cell_type": "code",
   "execution_count": 8,
   "id": "4d39ff03-7b02-41d1-8a95-24a0dc8b2229",
   "metadata": {},
   "outputs": [],
   "source": [
    "path_to_save = '../../Datasets/Synthetic'\n",
    "for i, img in enumerate(simulated_images):\n",
    "    cv2.imwrite(f'{path_to_save}/synth_{i+1}.tif', simulated_images[i])"
   ]
  },
  {
   "cell_type": "code",
   "execution_count": null,
   "id": "50ed4c73-cc24-4aac-9961-023e136422bd",
   "metadata": {},
   "outputs": [],
   "source": []
  }
 ],
 "metadata": {
  "kernelspec": {
   "display_name": "Python 3 (ipykernel)",
   "language": "python",
   "name": "python3"
  },
  "language_info": {
   "codemirror_mode": {
    "name": "ipython",
    "version": 3
   },
   "file_extension": ".py",
   "mimetype": "text/x-python",
   "name": "python",
   "nbconvert_exporter": "python",
   "pygments_lexer": "ipython3",
   "version": "3.7.1"
  }
 },
 "nbformat": 4,
 "nbformat_minor": 5
}
